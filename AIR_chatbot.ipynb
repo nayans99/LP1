{
  "nbformat": 4,
  "nbformat_minor": 0,
  "metadata": {
    "colab": {
      "name": "AIR_chatbot.ipynb",
      "provenance": []
    },
    "kernelspec": {
      "name": "python3",
      "display_name": "Python 3"
    }
  },
  "cells": [
    {
      "cell_type": "code",
      "metadata": {
        "colab": {
          "base_uri": "https://localhost:8080/"
        },
        "id": "7aqgSVMELwvo",
        "outputId": "5c19a492-2b19-4100-a595-d6989aa60d62"
      },
      "source": [
        "# Importing chatterbot\n",
        "from chatterbot import ChatBot\n",
        "\n",
        "# Create object of ChatBot class\n",
        "bot = ChatBot('Buddy')\n",
        "\n",
        "# Create object of ChatBot class with Storage Adapter\n",
        "bot = ChatBot(\n",
        "    'Buddy',\n",
        "    storage_adapter='chatterbot.storage.SQLStorageAdapter',\n",
        "    database_uri='sqlite:///database.sqlite3'\n",
        ")\n",
        "\n",
        "# Create object of ChatBot class with Logic Adapter\n",
        "bot = ChatBot(\n",
        "    'Buddy',  \n",
        "    logic_adapters=[\n",
        "        'chatterbot.logic.BestMatch',\n",
        "        'chatterbot.logic.TimeLogicAdapter'],\n",
        ")\n",
        "\n",
        "# Inport ListTrainer\n",
        "from chatterbot.trainers import ListTrainer\n",
        "\n",
        "trainer = ListTrainer(bot)\n",
        "\n",
        "small_talk = ['hi there!',\n",
        "          'hi!',\n",
        "          'how do you do?',\n",
        "          'how are you?',\n",
        "          'i\\'m cool.',\n",
        "          'fine, you?',\n",
        "          'always cool.',\n",
        "          'i\\'m ok',\n",
        "          'glad to hear that.',\n",
        "          'i\\'m fine',\n",
        "          'glad to hear that.',\n",
        "          'i feel awesome',\n",
        "          'excellent, glad to hear that.',\n",
        "          'not so good',\n",
        "          'sorry to hear that.',\n",
        "          'what\\'s your name?',\n",
        "          'i\\'m pybot. ask me a math question, please.']\n",
        "math_talk_1 = ['pythagorean theorem',\n",
        "          'a squared plus b squared equals c squared.']\n",
        "math_talk_2 = ['law of cosines',\n",
        "          'c**2 = a**2 + b**2 - 2 * a * b * cos(gamma)']\n",
        "customer = [\n",
        "            'Hi',\n",
        "            'Hello',\n",
        "            'I need your assistance regarding my order',\n",
        "            'Please, Provide me with your order id',\n",
        "            'I have a complaint.',\n",
        "            'Please elaborate, your concern',\n",
        "            'How long it will take to receive an order ?',\n",
        "            'An order takes 3-5 Business days to get delivered.',\n",
        "            'Okay Thanks',\n",
        "            'No Problem! Have a Good Day!'\n",
        "            ]\n",
        "\n",
        "list_trainer = ListTrainer(bot)\n",
        "\n",
        "for item in (small_talk, math_talk_1, math_talk_2, customer):\n",
        "          list_trainer.train(item)\n",
        "\n"
      ],
      "execution_count": 1,
      "outputs": [
        {
          "output_type": "stream",
          "text": [
            "List Trainer: [####################] 100%\n",
            "List Trainer: [####################] 100%\n",
            "List Trainer: [####################] 100%\n",
            "List Trainer: [####################] 100%\n",
            "Bot Response: Please elaborate, your concern\n"
          ],
          "name": "stdout"
        }
      ]
    },
    {
      "cell_type": "code",
      "metadata": {
        "colab": {
          "base_uri": "https://localhost:8080/"
        },
        "id": "BoVZCS-GPRuc",
        "outputId": "4ac58d6a-4fd0-4df1-d3f8-53570dbf4c9f"
      },
      "source": [
        "# Get a response to the input text 'I would like to book a flight.'\n",
        "response = bot.get_response('How are you?')\n",
        "\n",
        "print(\"Bot Response:\", response)"
      ],
      "execution_count": 6,
      "outputs": [
        {
          "output_type": "stream",
          "text": [
            "Bot Response: i'm cool.\n"
          ],
          "name": "stdout"
        }
      ]
    },
    {
      "cell_type": "code",
      "metadata": {
        "colab": {
          "base_uri": "https://localhost:8080/"
        },
        "id": "a2UM5o8FMAox",
        "outputId": "8381a13a-611f-4ead-ff51-096f4703ffa7"
      },
      "source": [
        "!pip install chatterbot_corpus"
      ],
      "execution_count": 10,
      "outputs": [
        {
          "output_type": "stream",
          "text": [
            "Collecting chatterbot_corpus\n",
            "\u001b[?25l  Downloading https://files.pythonhosted.org/packages/ed/19/f8b41daf36fe4b0f43e283a820362ffdb2c1128600ab4ee187e84262fa4d/chatterbot_corpus-1.2.0-py2.py3-none-any.whl (117kB)\n",
            "\r\u001b[K     |██▉                             | 10kB 14.9MB/s eta 0:00:01\r\u001b[K     |█████▋                          | 20kB 19.9MB/s eta 0:00:01\r\u001b[K     |████████▍                       | 30kB 13.2MB/s eta 0:00:01\r\u001b[K     |███████████▏                    | 40kB 10.4MB/s eta 0:00:01\r\u001b[K     |██████████████                  | 51kB 5.1MB/s eta 0:00:01\r\u001b[K     |████████████████▊               | 61kB 5.7MB/s eta 0:00:01\r\u001b[K     |███████████████████▋            | 71kB 5.9MB/s eta 0:00:01\r\u001b[K     |██████████████████████▍         | 81kB 6.3MB/s eta 0:00:01\r\u001b[K     |█████████████████████████▏      | 92kB 6.1MB/s eta 0:00:01\r\u001b[K     |████████████████████████████    | 102kB 6.6MB/s eta 0:00:01\r\u001b[K     |██████████████████████████████▊ | 112kB 6.6MB/s eta 0:00:01\r\u001b[K     |████████████████████████████████| 122kB 6.6MB/s \n",
            "\u001b[?25hRequirement already satisfied: PyYAML<4.0,>=3.12 in /usr/local/lib/python3.6/dist-packages (from chatterbot_corpus) (3.13)\n",
            "Installing collected packages: chatterbot-corpus\n",
            "Successfully installed chatterbot-corpus-1.2.0\n"
          ],
          "name": "stdout"
        }
      ]
    },
    {
      "cell_type": "code",
      "metadata": {
        "colab": {
          "base_uri": "https://localhost:8080/"
        },
        "id": "584FxxEvNC2e",
        "outputId": "31abef37-d0bf-4564-e6fb-6710b61dd243"
      },
      "source": [
        "name=input(\"Enter Your Name: \")\n",
        "print(\"Welcome to the Bot Service! Let me know how can I help you?\")\n",
        "while True:\n",
        "    request=input(name+':')\n",
        "    print(request)\n",
        "    if request=='Bye' or request =='bye':\n",
        "        print('Bot: Bye')\n",
        "        break\n",
        "    else:\n",
        "        response=bot.get_response(request)\n",
        "        print('Bot:',response)"
      ],
      "execution_count": 11,
      "outputs": [
        {
          "output_type": "stream",
          "text": [
            "Enter Your Name: bye\n",
            "Welcome to the Bot Service! Let me know how can I help you?\n",
            "bye:bye\n",
            "bye\n",
            "Bot: Bye\n"
          ],
          "name": "stdout"
        }
      ]
    },
    {
      "cell_type": "code",
      "metadata": {
        "id": "eDNytdVtQOnm"
      },
      "source": [
        ""
      ],
      "execution_count": null,
      "outputs": []
    }
  ]
}